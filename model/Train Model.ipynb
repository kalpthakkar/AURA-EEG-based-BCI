{
  "cells": [
    {
      "metadata": {
        "_uuid": "cf15a5861d6d607fd230c107fb2248458500fb50",
        "id": "n1Sm4vKEXGWp"
      },
      "cell_type": "markdown",
      "source": [
        "**<center><font size=5>EEG Data Analysis</font></center>**\n",
        "\n",
        "**<center>The Aura Project</center>**\n",
        "\n",
        "\n",
        "#### Table of Contents\n",
        "\n",
        "- <a href='#import'>1. Data Import</a>\n",
        "- <a href='#pp'>2. Pre-Processing</a> \n",
        "- <a href='#fe'>3. Feature Extration</a> \n",
        " - <a href='#s1'>3.1. Data Sample for \"S1 obj\" Stimulus</a>\n",
        " - <a href='#s2m'>3.2. Data Sample for \"S2 match\" Stimulus</a>\n",
        " - <a href='#s2nm'>3.3. Data Sample for \"S2 nomatch\" Stimulus</a>\n",
        "- <a href='#d'>4. Decoding</a> \n",
        " - <a href='#corr_sample'>4.1. Correlations between the Regions</a>\n",
        " - <a href='#corr_viz'>4.2. Vizualization of Correlations</a>\n",
        "- <a href='#further'>5. Export our model for tflite</a> \n",
        "- <a href='#further'>6. Further steps</a>"
      ]
    },
    {
      "metadata": {
        "_uuid": "aaaf7f239981ae7487ccfb178472eb3ba5ccb76c",
        "id": "wpZGsAv1XGW0"
      },
      "cell_type": "markdown",
      "source": [
        "# <a id='import'>1. Data Import</a>"
      ]
    },
    {
      "metadata": {
        "_uuid": "8f2839f25d086af736a60e9eeb907d3b93b6e0e5",
        "_cell_guid": "b1076dfc-b9ad-4769-8c92-a6c4dae69d19",
        "trusted": true,
        "id": "9hdi6ZJ7XGW0"
      },
      "cell_type": "code",
      "source": [
        "import numpy as np\n",
        "import pandas as pd \n",
        "import os\n",
        "import random\n",
        "from tqdm import tqdm\n",
        "import matplotlib\n",
        "import seaborn as sns\n",
        "import matplotlib.pyplot as plt\n",
        "\n",
        "import tensorflow as tf\n",
        "from tensorflow.keras.models import Sequential\n",
        "from tensorflow.keras.layers import Dense\n",
        "from tensorflow.keras import Input\n",
        "from tensorflow.data import Dataset\n",
        "\n",
        "\n",
        "init_notebook_mode(connected=True) ## plotly init\n",
        "seed = 123\n",
        "random.seed = seed"
      ],
      "execution_count": null,
      "outputs": []
    },
    {
      "cell_type": "markdown",
      "source": [
        "# <a id='pp'>2. Pre-Processing</a>"
      ],
      "metadata": {
        "id": "j7F8nTBQeA8Y"
      }
    },
    {
      "metadata": {
        "trusted": true,
        "_uuid": "6d213deb9d06151db70b9975bcc2bb6fa78bffc9",
        "_kg_hide-input": true,
        "id": "1POlsaljXGW2"
      },
      "cell_type": "code",
      "source": [
        "print('Total amount of files in SMNI_CMI_TRAIN directory: ' + str(len(os.listdir('../input/SMNI_CMI_TRAIN/'))))"
      ],
      "execution_count": null,
      "outputs": []
    },
    {
      "metadata": {
        "trusted": true,
        "_uuid": "78519635c2217182f4c8e13bc25876631eb8f8a6",
        "id": "jhYbgBauXGW3"
      },
      "cell_type": "code",
      "source": [
        "filenames_list = os.listdir('../input/SMNI_CMI_TRAIN/') ## list of file names in the directory\n",
        "EEG_data = pd.DataFrame({}) ## create an empty df that will hold data from each file\n",
        "\n",
        "for file_name in tqdm(filenames_list):\n",
        "    temp_df = pd.read_csv('../input/SMNI_CMI_TRAIN/' + file_name) ## read from the file to df\n",
        "    EEG_data = EEG_data.append(temp_df) ## add the file data to the main df\n",
        "    \n",
        "EEG_data = EEG_data.drop(['Unnamed: 0'], axis=1) ## remove the unused column\n",
        "EEG_data.loc[EEG_data['matching condition'] == 'S2 nomatch,', 'matching condition'] =  'S2 nomatch' ## remove comma sign from stimulus name"
      ],
      "execution_count": null,
      "outputs": []
    },
    {
      "metadata": {
        "trusted": true,
        "_uuid": "f9051e68389da1bc215d1b95aabf600f81756d7f",
        "id": "LQuyjCyJXGW4"
      },
      "cell_type": "code",
      "source": [
        "## here is how the data looks like\n",
        "EEG_data.head()"
      ],
      "execution_count": null,
      "outputs": []
    },
    {
      "cell_type": "markdown",
      "source": [
        "# <a id='fe'>3. Feature Extration</a>"
      ],
      "metadata": {
        "id": "loklzHZJdMOT"
      }
    },
    {
      "metadata": {
        "_uuid": "9ccac0657bdc36881221d6c659bfdc21c0e2051e",
        "id": "awsyxrIzXGW-"
      },
      "cell_type": "markdown",
      "source": [
        "## <a id='s1'>3.1. Data Sample for \"S1 obj\" Stimulus</a>"
      ]
    },
    {
      "metadata": {
        "_kg_hide-input": false,
        "trusted": true,
        "_uuid": "14ec22f3ba53428a19102c79113fb2f8b2fc1004",
        "id": "rc9w_z0oXGW_"
      },
      "cell_type": "code",
      "source": [
        "stimulus = 'S1 obj'\n",
        "S1_sample_df = sample_data(stimulus=stimulus, random_id=1)"
      ],
      "execution_count": null,
      "outputs": []
    },
    {
      "metadata": {
        "trusted": true,
        "_uuid": "1d8cffee4d8269c9a685e496fa7acf1432f50896",
        "id": "uaxV--U2XGW_"
      },
      "cell_type": "code",
      "source": [
        "plot_3dSurface_and_heatmap(stimulus=stimulus, group='a', df=S1_sample_df)"
      ],
      "execution_count": null,
      "outputs": []
    },
    {
      "metadata": {
        "trusted": true,
        "_uuid": "6e2146a859761026f1af2150a937a94d81c4fc58",
        "id": "Kc4bviSvXGXA"
      },
      "cell_type": "code",
      "source": [
        "plot_3dSurface_and_heatmap(stimulus=stimulus, group='c', df=S1_sample_df)"
      ],
      "execution_count": null,
      "outputs": []
    },
    {
      "metadata": {
        "_uuid": "40c6d3326f71de3a313188dfe23b73b5491dab2f",
        "id": "ZqvX-FVNXGXB"
      },
      "cell_type": "markdown",
      "source": [
        "## <a id='s2m'>3.2. Data Sample for \"S2 match\" Stimulus</a>"
      ]
    },
    {
      "metadata": {
        "trusted": true,
        "_uuid": "44772f2c6ebc0afd0994159beb14969584270768",
        "id": "AevDJ602XGXB"
      },
      "cell_type": "code",
      "source": [
        "stimulus = 'S2 match'\n",
        "S2_m_sample_df = sample_data(stimulus=stimulus, random_id=1)"
      ],
      "execution_count": null,
      "outputs": []
    },
    {
      "metadata": {
        "trusted": true,
        "_uuid": "469d74b8148107eac477a18365554a079d19bd1d",
        "id": "uvFswKrDXGXC"
      },
      "cell_type": "code",
      "source": [
        "plot_3dSurface_and_heatmap(stimulus=stimulus, group='a', df=S2_m_sample_df)"
      ],
      "execution_count": null,
      "outputs": []
    },
    {
      "metadata": {
        "trusted": true,
        "_uuid": "674773db20bd01813fb92e144347684c03451487",
        "id": "sK07zN7yXGXC"
      },
      "cell_type": "code",
      "source": [
        "plot_3dSurface_and_heatmap(stimulus=stimulus, group='c', df=S2_m_sample_df)"
      ],
      "execution_count": null,
      "outputs": []
    },
    {
      "metadata": {
        "_uuid": "7fcdc0679034a27ba22cc990bd661519a9fcf669",
        "id": "tsOM2XmmXGXC"
      },
      "cell_type": "markdown",
      "source": [
        "Some big spike happend here for control subject. High response values (which respond to front right region of the head) could be caused by eye movement or blink."
      ]
    },
    {
      "metadata": {
        "_uuid": "b585efd3dd5bf6db63bc05126318c6df25620477",
        "id": "8y0vSrmwXGXD"
      },
      "cell_type": "markdown",
      "source": [
        "## <a id='s2nm'>3.3. Data Sample for \"S2 nomatch\" Stimulus</a>"
      ]
    },
    {
      "metadata": {
        "trusted": true,
        "_uuid": "264512919dfda888fd1f3aa17306a2fe158cf056",
        "id": "-5d251-rXGXD"
      },
      "cell_type": "code",
      "source": [
        "stimulus = 'S2 nomatch'\n",
        "S2_nm_sample_df = sample_data(stimulus=stimulus, random_id=1)"
      ],
      "execution_count": null,
      "outputs": []
    },
    {
      "metadata": {
        "trusted": true,
        "_uuid": "92a8f3862dea84b1e776b9ba510403e1560efdda",
        "id": "zqBcCFnjXGXE"
      },
      "cell_type": "code",
      "source": [
        "plot_3dSurface_and_heatmap(stimulus=stimulus, group='a', df=S2_nm_sample_df)"
      ],
      "execution_count": null,
      "outputs": []
    },
    {
      "metadata": {
        "trusted": true,
        "_uuid": "4bf2f558c2ec1a221e2aae88335d0c5d1636250f",
        "id": "Ur1xr6LxXGXE"
      },
      "cell_type": "code",
      "source": [
        "plot_3dSurface_and_heatmap(stimulus=stimulus, group='c', df=S2_nm_sample_df)"
      ],
      "execution_count": null,
      "outputs": []
    },
    {
      "metadata": {
        "_uuid": "d4b3d74dc9a144652bf2b911f48d8b5b9c97541e",
        "id": "MpF3XjSwXGXE"
      },
      "cell_type": "markdown",
      "source": [
        "\n",
        "\n",
        "| **Freaked** | **Relaxed** |\n",
        "|--|--|\n",
        "| <img src=\"https://i.ibb.co/kBmwypK/s2-nm-a.gif\" alt=\"s2-nm-a\" border=\"0\"> | <img src=\"https://i.ibb.co/R9SQG0j/s2-nm-c.gif\" alt=\"s2-nm-c\" border=\"0\"> |"
      ]
    },
    {
      "metadata": {
        "_uuid": "6466b9aec502e8c7ecf51c04f0f88709e75cbdf1",
        "id": "mAyGFBj1XGXE"
      },
      "cell_type": "markdown",
      "source": [
        "After the quick glimpse it looks like on average response values are higher for amplitede group and feed as parameter amongst features for controling aura devices. "
      ]
    },
    {
      "cell_type": "markdown",
      "source": [
        "# <a href='d'>4. Decoding</a> "
      ],
      "metadata": {
        "id": "-mX5ttDJel3f"
      }
    },
    {
      "metadata": {
        "_uuid": "ee0cf3e061a518f82c8121d1076001287a26a4f3",
        "id": "feCmSMr6XGXF"
      },
      "cell_type": "markdown",
      "source": [
        "## <a id='corr_sample'>4.1 Correlations between the Regions</a>\n",
        "\n",
        "Next step will be to investigate the correlations between firing rates of each sensor position. If two brain regions have high correlation value that means that they trend to wire together."
      ]
    },
    {
      "metadata": {
        "trusted": true,
        "_uuid": "6438be0d9eb7af393b00dd39fd46f1856b25f577",
        "id": "mg_Z--OmXGXF"
      },
      "cell_type": "code",
      "source": [
        "## create the list of possible channel pairs\n",
        "sample_corr_df = pd.pivot_table(S2_nm_sample_df[S2_nm_sample_df['subject identifier'] == 'a'], values='sensor value', index='sample num', columns='sensor position').corr()\n",
        "\n",
        "list_of_pairs = []\n",
        "j = 0\n",
        "for column in sample_corr_df.columns:\n",
        "    j += 1\n",
        "    for i in range(j, len(sample_corr_df)):\n",
        "        if column != sample_corr_df.index[i]:\n",
        "            temp_pair = [column + '-' + sample_corr_df.index[i]]\n",
        "            list_of_pairs.append(temp_pair)"
      ],
      "execution_count": null,
      "outputs": []
    },
    {
      "metadata": {
        "trusted": true,
        "_uuid": "bc16f2c6a30cfd403ce32fa39196c02c848828ba",
        "_kg_hide-input": true,
        "id": "ppWJnqK9XGXF"
      },
      "cell_type": "code",
      "source": [
        "def get_correlated_pairs_sample(threshold, correlation_df, group):\n",
        "    ## create dictionary wheke keys are the pairs and values are the amount of high correlation pair\n",
        "    corr_pairs_dict = {}\n",
        "    for i in range(len(list_of_pairs)):\n",
        "        temp_corr_pair = dict(zip(list_of_pairs[i], [0]))\n",
        "        corr_pairs_dict.update(temp_corr_pair)\n",
        "\n",
        "    j = 0\n",
        "    for column in correlation_df.columns:\n",
        "        j += 1\n",
        "        for i in range(j, len(correlation_df)):\n",
        "            if ((correlation_df[column][i] >= threshold) & (column != correlation_df.index[i])):\n",
        "                corr_pairs_dict[column + '-' + correlation_df.index[i]] += 1\n",
        "\n",
        "    corr_count = pd.DataFrame(corr_pairs_dict, index=['count']).T.reset_index(drop=False).rename(columns={'index': 'channel_pair'})\n",
        "    print('Channel pairs that have correlation value >= ' + str(threshold) + ' (' + group + ' group):')\n",
        "    print(corr_count['channel_pair'][corr_count['count'] > 0].tolist())"
      ],
      "execution_count": null,
      "outputs": []
    },
    {
      "metadata": {
        "_uuid": "ee0cf3e061a518f82c8121d1076001287a26a4f3",
        "id": "b5bM9HS8e-T7"
      },
      "cell_type": "markdown",
      "source": [
        "## <a id='corr_viz'>4.2 Vizualization of Correlations</a>\n",
        "\n",
        "Next step will be to investigate the correlations between firing rates of each sensor position. If two brain regions have high correlation value that means that they trend to wire together."
      ]
    },
    {
      "metadata": {
        "trusted": true,
        "_uuid": "fe46b5561c0c1de88d69fc5c492f949bb400502f",
        "_kg_hide-input": true,
        "id": "89uxyHmrXGXF"
      },
      "cell_type": "code",
      "source": [
        "def plot_sensors_correlation(df, threshold_value):\n",
        "    \"\"\"Funtion plots the the correlation plots between sensor positions for each group\"\"\"\n",
        "    correlations_a = pd.pivot_table(df[df['subject identifier'] == 'a'], \n",
        "                                          values='sensor value', index='sample num', columns='sensor position').corr()\n",
        "\n",
        "    correlations_control = pd.pivot_table(df[df['subject identifier'] == 'c'], \n",
        "                                          values='sensor value', index='sample num', columns='sensor position').corr()\n",
        "\n",
        "    fig = plt.figure(figsize=(17,10))\n",
        "    ax = fig.add_subplot(121)\n",
        "    ax.set_title('Abnormal', fontsize=14)\n",
        "    mask = np.zeros_like(correlations_a, dtype=np.bool)\n",
        "    mask[np.triu_indices_from(mask)] = True\n",
        "    cmap = sns.diverging_palette(220, 10, as_cmap=True)\n",
        "    sns.heatmap(correlations_a, mask=mask, cmap=cmap, vmin=-1, vmax=1, center=0,\n",
        "                square=True, linewidths=.5, cbar_kws={\"shrink\": .5})\n",
        "\n",
        "    ax = fig.add_subplot(122)\n",
        "    ax.set_title('Control group', fontsize=14)\n",
        "    mask = np.zeros_like(correlations_control, dtype=np.bool)\n",
        "    mask[np.triu_indices_from(mask)] = True\n",
        "    cmap = sns.diverging_palette(220, 10, as_cmap=True)\n",
        "    sns.heatmap(correlations_control, mask=mask, cmap=cmap, vmin=-1, vmax=1, center=0,\n",
        "                square=True, linewidths=.5, cbar_kws={\"shrink\": .5})\n",
        "\n",
        "    plt.suptitle('Correlation between Sensor Positions for ' + df['matching condition'].unique()[0] + ' stimulus', fontsize=16)\n",
        "    plt.show()\n",
        "    \n",
        "    get_correlated_pairs_sample(threshold=threshold_value, correlation_df=correlations_a, group='Abnormal')\n",
        "    print('\\n')\n",
        "    get_correlated_pairs_sample(threshold=threshold_value, correlation_df=correlations_control, group='Control')"
      ],
      "execution_count": null,
      "outputs": []
    },
    {
      "metadata": {
        "trusted": true,
        "_uuid": "ed3bc9b6956a51b499b46700f5bf60362bb400d5",
        "id": "uzO-Kh-vXGXG"
      },
      "cell_type": "code",
      "source": [
        "plot_sensors_correlation(df=S1_sample_df, threshold_value=.97)"
      ],
      "execution_count": null,
      "outputs": []
    },
    {
      "metadata": {
        "trusted": true,
        "_uuid": "cfaef6ddda18f2691874bfae446f2629465c6e55",
        "id": "nbQzPB_uXGXG"
      },
      "cell_type": "code",
      "source": [
        "plot_sensors_correlation(df=S2_m_sample_df, threshold_value=.97)"
      ],
      "execution_count": null,
      "outputs": []
    },
    {
      "metadata": {
        "trusted": true,
        "_uuid": "d285f5e590764c86e0a55796afa9247ff6567410",
        "id": "sRaFpubQXGXG"
      },
      "cell_type": "code",
      "source": [
        "plot_sensors_correlation(df=S2_nm_sample_df, threshold_value=.97)"
      ],
      "execution_count": null,
      "outputs": []
    },
    {
      "cell_type": "markdown",
      "source": [
        "# <a href='export'>5. Export our model for tflite </a> \n",
        "We need to convert our model into a tflite model"
      ],
      "metadata": {
        "id": "Q83-Ix-EgO2C"
      }
    },
    {
      "cell_type": "code",
      "source": [
        "converter = tf.lite.TFLiteConverter.from_keras_model(model)\n",
        "converter.optimizations = [tf.lite.Optimize.DEFAULT]\n",
        "def representative_dataset_gen():\n",
        "    for _ in range(10000):\n",
        "        yield [\n",
        "            np.array(\n",
        "                [np.random.uniform(), np.random.uniform()]\n",
        "            , dtype=np.float32)\n",
        "        ]\n",
        "converter.representative_dataset = representative_dataset_gen\n",
        "converter.target_spec.supported_ops = [tf.lite.OpsSet.TFLITE_BUILTINS_INT8]\n",
        "tflite_quant_model = converter.convert()\n",
        "open(\"converted_model.tflite\", \"wb\").write(tflite_quant_model)"
      ],
      "metadata": {
        "id": "Ix3vMtRkghmN"
      },
      "execution_count": null,
      "outputs": []
    },
    {
      "cell_type": "markdown",
      "source": [
        "# <a href='further'>6. Further Steps</a> \n",
        "\n",
        "##To convert to C++\n",
        "We can then run this command to convert the model to c code.\n",
        "\n",
        "\n"
      ],
      "metadata": {
        "id": "hlzoKx3Vcmwl"
      }
    },
    {
      "cell_type": "code",
      "source": [
        "xxd -i converted_model.tflite > model_data.cc"
      ],
      "metadata": {
        "id": "_UIYAfzCcphs"
      },
      "execution_count": null,
      "outputs": []
    }
  ],
  "metadata": {
    "kernelspec": {
      "display_name": "Python 3",
      "language": "python",
      "name": "python3"
    },
    "language_info": {
      "name": "python",
      "version": "3.6.6",
      "mimetype": "text/x-python",
      "codemirror_mode": {
        "name": "ipython",
        "version": 3
      },
      "pygments_lexer": "ipython3",
      "nbconvert_exporter": "python",
      "file_extension": ".py"
    },
    "colab": {
      "name": "eeg-data-analysis.ipynb",
      "provenance": []
    }
  },
  "nbformat": 4,
  "nbformat_minor": 0
}